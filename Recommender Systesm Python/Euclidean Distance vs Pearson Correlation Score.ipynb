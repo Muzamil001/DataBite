{
 "cells": [
  {
   "cell_type": "code",
   "execution_count": 1,
   "metadata": {},
   "outputs": [
    {
     "name": "stdout",
     "output_type": "stream",
     "text": [
      "Populating the interactive namespace from numpy and matplotlib\n"
     ]
    }
   ],
   "source": [
    "#Pearson Correlation Score \n",
    "import numpy as np\n",
    "import pandas as pd\n",
    "%pylab inline"
   ]
  },
  {
   "cell_type": "code",
   "execution_count": 2,
   "metadata": {},
   "outputs": [],
   "source": [
    "#\n",
    "dataset={'Lisa Rose': {'Lady in the Water': 2.5, 'Snakes on a Plane': 3.5,'Just My Luck': 3.0, 'Superman Returns': 3.5, 'You, Me and Dupree': 2.5,'The Night Listener': 3.0},\n",
    "        'Gene Seymour': {'Lady in the Water': 3.0, 'Snakes on a Plane': 3.5,'Just My Luck': 1.5, 'Superman Returns': 5.0, 'The Night Listener': 3.0,'You, Me and Dupree': 3.5},\n",
    "        'Michael Phillips': {'Lady in the Water': 2.5, 'Snakes on a Plane': 3.0,'Superman Returns': 3.5, 'The Night Listener': 4.0},\n",
    "        'Claudia Puig': {'Snakes on a Plane': 3.5, 'Just My Luck': 3.0,'The Night Listener': 4.5, 'Superman Returns': 4.0,'You, Me and Dupree': 2.5},\n",
    "        'Mick LaSalle': {'Lady in the Water': 3.0, 'Snakes on a Plane': 4.0,'Just My Luck': 2.0, 'Superman Returns': 3.0, 'The Night Listener': 3.0,'You, Me and Dupree': 2.0},\n",
    "        'Jack Matthews': {'Lady in the Water': 3.0, 'Snakes on a Plane': 4.0,'The Night Listener': 3.0, 'Superman Returns': 5.0, 'You, Me and Dupree': 3.5},\n",
    "        'Toby': {'Snakes on a Plane':4.5,'You, Me and Dupree':1.0,'Superman Returns':4.0}}\n",
    "\n"
   ]
  },
  {
   "cell_type": "code",
   "execution_count": 3,
   "metadata": {},
   "outputs": [
    {
     "data": {
      "text/html": [
       "<div>\n",
       "<style scoped>\n",
       "    .dataframe tbody tr th:only-of-type {\n",
       "        vertical-align: middle;\n",
       "    }\n",
       "\n",
       "    .dataframe tbody tr th {\n",
       "        vertical-align: top;\n",
       "    }\n",
       "\n",
       "    .dataframe thead th {\n",
       "        text-align: right;\n",
       "    }\n",
       "</style>\n",
       "<table border=\"1\" class=\"dataframe\">\n",
       "  <thead>\n",
       "    <tr style=\"text-align: right;\">\n",
       "      <th></th>\n",
       "      <th>Claudia Puig</th>\n",
       "      <th>Gene Seymour</th>\n",
       "      <th>Jack Matthews</th>\n",
       "      <th>Lisa Rose</th>\n",
       "      <th>Michael Phillips</th>\n",
       "      <th>Mick LaSalle</th>\n",
       "      <th>Toby</th>\n",
       "    </tr>\n",
       "  </thead>\n",
       "  <tbody>\n",
       "    <tr>\n",
       "      <th>Just My Luck</th>\n",
       "      <td>3.0</td>\n",
       "      <td>1.5</td>\n",
       "      <td>0.0</td>\n",
       "      <td>3.0</td>\n",
       "      <td>0.0</td>\n",
       "      <td>2.0</td>\n",
       "      <td>0.0</td>\n",
       "    </tr>\n",
       "    <tr>\n",
       "      <th>Lady in the Water</th>\n",
       "      <td>0.0</td>\n",
       "      <td>3.0</td>\n",
       "      <td>3.0</td>\n",
       "      <td>2.5</td>\n",
       "      <td>2.5</td>\n",
       "      <td>3.0</td>\n",
       "      <td>0.0</td>\n",
       "    </tr>\n",
       "    <tr>\n",
       "      <th>Snakes on a Plane</th>\n",
       "      <td>3.5</td>\n",
       "      <td>3.5</td>\n",
       "      <td>4.0</td>\n",
       "      <td>3.5</td>\n",
       "      <td>3.0</td>\n",
       "      <td>4.0</td>\n",
       "      <td>4.5</td>\n",
       "    </tr>\n",
       "    <tr>\n",
       "      <th>Superman Returns</th>\n",
       "      <td>4.0</td>\n",
       "      <td>5.0</td>\n",
       "      <td>5.0</td>\n",
       "      <td>3.5</td>\n",
       "      <td>3.5</td>\n",
       "      <td>3.0</td>\n",
       "      <td>4.0</td>\n",
       "    </tr>\n",
       "    <tr>\n",
       "      <th>The Night Listener</th>\n",
       "      <td>4.5</td>\n",
       "      <td>3.0</td>\n",
       "      <td>3.0</td>\n",
       "      <td>3.0</td>\n",
       "      <td>4.0</td>\n",
       "      <td>3.0</td>\n",
       "      <td>0.0</td>\n",
       "    </tr>\n",
       "    <tr>\n",
       "      <th>You, Me and Dupree</th>\n",
       "      <td>2.5</td>\n",
       "      <td>3.5</td>\n",
       "      <td>3.5</td>\n",
       "      <td>2.5</td>\n",
       "      <td>0.0</td>\n",
       "      <td>2.0</td>\n",
       "      <td>1.0</td>\n",
       "    </tr>\n",
       "  </tbody>\n",
       "</table>\n",
       "</div>"
      ],
      "text/plain": [
       "                    Claudia Puig  Gene Seymour  Jack Matthews  Lisa Rose  \\\n",
       "Just My Luck                 3.0           1.5            0.0        3.0   \n",
       "Lady in the Water            0.0           3.0            3.0        2.5   \n",
       "Snakes on a Plane            3.5           3.5            4.0        3.5   \n",
       "Superman Returns             4.0           5.0            5.0        3.5   \n",
       "The Night Listener           4.5           3.0            3.0        3.0   \n",
       "You, Me and Dupree           2.5           3.5            3.5        2.5   \n",
       "\n",
       "                    Michael Phillips  Mick LaSalle  Toby  \n",
       "Just My Luck                     0.0           2.0   0.0  \n",
       "Lady in the Water                2.5           3.0   0.0  \n",
       "Snakes on a Plane                3.0           4.0   4.5  \n",
       "Superman Returns                 3.5           3.0   4.0  \n",
       "The Night Listener               4.0           3.0   0.0  \n",
       "You, Me and Dupree               0.0           2.0   1.0  "
      ]
     },
     "execution_count": 3,
     "metadata": {},
     "output_type": "execute_result"
    }
   ],
   "source": [
    "data=pd.DataFrame(dataset).fillna(0)\n",
    "data\n"
   ]
  },
  {
   "cell_type": "markdown",
   "metadata": {},
   "source": [
    "# Ecludiean Distance"
   ]
  },
  {
   "cell_type": "code",
   "execution_count": 4,
   "metadata": {},
   "outputs": [],
   "source": [
    "#now finding the similarity between any two person using Ecludiean distance\n",
    "def get_similarity(data,p1,p2):\n",
    "    #for finding the similarity between tow person \n",
    "    #we need to find the simiilar item between them. Similar item mean ..rate score against same movie\n",
    "    \n",
    "    p1=[score for key,score in data[p1].items()]\n",
    "    p2=[score for key,score in data[p2].items()]\n",
    "    \n",
    "    sum_of_square=sum(pow(p1[index]-p2[index],2) for index in range(len(p1)) if p2[index]!=0 and p1[index]!=0)\n",
    "        \n",
    "    return 1/(1+sum_of_square)"
   ]
  },
  {
   "cell_type": "code",
   "execution_count": 5,
   "metadata": {},
   "outputs": [
    {
     "data": {
      "text/plain": [
       "0.10810810810810811"
      ]
     },
     "execution_count": 5,
     "metadata": {},
     "output_type": "execute_result"
    }
   ],
   "source": [
    "get_similarity(data,\"Gene Seymour\",\"Toby\")"
   ]
  },
  {
   "cell_type": "markdown",
   "metadata": {},
   "source": [
    "# Ranking List : Eculidean distance "
   ]
  },
  {
   "cell_type": "code",
   "execution_count": 6,
   "metadata": {},
   "outputs": [
    {
     "name": "stdout",
     "output_type": "stream",
     "text": [
      "           Lisa Rose             1.000000\n",
      "    Michael Phillips             0.444444\n",
      "        Mick LaSalle             0.333333\n",
      "        Claudia Puig             0.285714\n",
      "                Toby             0.222222\n",
      "       Jack Matthews             0.210526\n",
      "        Gene Seymour             0.148148\n"
     ]
    }
   ],
   "source": [
    "#lets i want find the distance between Lisa Rose and every other person\n",
    "\n",
    "ranking={}\n",
    "names=list(data.columns)\n",
    "for person in names:\n",
    "    ranking[person]=get_similarity(data,\"Lisa Rose\",person)\n",
    "\n",
    "sortedlist=sorted(ranking,key=ranking.get,reverse=True)\n",
    "\n",
    "for key in sortedlist:\n",
    "    print(\"%20s %20f\"%(key,ranking[key]))\n",
    "\n",
    "    "
   ]
  },
  {
   "cell_type": "markdown",
   "metadata": {},
   "source": [
    "# Pearson correlation"
   ]
  },
  {
   "cell_type": "code",
   "execution_count": 7,
   "metadata": {},
   "outputs": [
    {
     "data": {
      "image/png": "[encoded data removed]",
      "text/plain": [
       "<IPython.core.display.Image object>"
      ]
     },
     "execution_count": 7,
     "metadata": {
      "image/png": {
       "height": 400,
       "width": 800
      }
     },
     "output_type": "execute_result"
    }
   ],
   "source": [
    "from IPython.display import Image\n",
    "Image(filename='E:/teturial/picture/pearson_distance.png',width=800,height=400)\n"
   ]
  },
  {
   "cell_type": "code",
   "execution_count": 8,
   "metadata": {},
   "outputs": [],
   "source": [
    "def sim_correlation(data,p1,p2):\n",
    "    #finding x and y\n",
    "    list_p1=list(data[p1])\n",
    "    list_p2=list(data[p2])\n",
    "    \n",
    "    #finding step1 and 2\n",
    "    sum1=sum(list_p1[index] for index in range(len(list_p1)) if list_p2[index]!=0)\n",
    "    sum2=sum(list_p2[index] for index in range(len(list_p2)) if list_p1[index]!=0)\n",
    "    \n",
    "    #doing step 3\n",
    "    pSum=sum([list_p1[index]*list_p2[index] for index in range(len(list_p1)) if list_p1[index]!=0 and list_p2[index]!=0])\n",
    "    \n",
    "    #doing Step 5 and 6\n",
    "    sum1sqr=sum([pow(list_p1[index],2) for index in range(len(list_p1)) if list_p1[index]!=0 and list_p2[index]!=0])\n",
    "    sum2sqr=sum([pow(list_p2[index],2) for index in range(len(list_p2)) if list_p1[index]!=0 and list_p2[index]!=0])\n",
    "    \n",
    "    #n-of nummerator\n",
    "    n=([index for index in range(len(list_p1)) if list_p1[index]!=0 and list_p2[index]!=0])\n",
    "    n=len(n)\n",
    "    \n",
    "    #nummerator\n",
    "    num=pSum-(sum1*sum2/n)\n",
    "    \n",
    "    #Denamuerator\n",
    "    den=math.sqrt(sum1sqr-pow(sum1,2)/n)*math.sqrt(sum2sqr-pow(sum2,2)/n)\n",
    "    \n",
    "    r=num/den\n",
    "    return r\n",
    "    "
   ]
  },
  {
   "cell_type": "code",
   "execution_count": 9,
   "metadata": {},
   "outputs": [
    {
     "data": {
      "text/plain": [
       "0.39605901719066977"
      ]
     },
     "execution_count": 9,
     "metadata": {},
     "output_type": "execute_result"
    }
   ],
   "source": [
    "sim_correlation(data,\"Lisa Rose\",\"Gene Seymour\")"
   ]
  },
  {
   "cell_type": "markdown",
   "metadata": {},
   "source": [
    "# Rakning for pearson Correlation score"
   ]
  },
  {
   "cell_type": "code",
   "execution_count": 10,
   "metadata": {},
   "outputs": [
    {
     "name": "stdout",
     "output_type": "stream",
     "text": [
      "           Lisa Rose             1.000000\n",
      "                Toby             0.991241\n",
      "       Jack Matthews             0.747018\n",
      "        Mick LaSalle             0.594089\n",
      "        Claudia Puig             0.566947\n",
      "    Michael Phillips             0.404520\n",
      "        Gene Seymour             0.396059\n"
     ]
    }
   ],
   "source": [
    "#lets i want find the distance between Lisa Rose and every other person\n",
    "\n",
    "ranking={}\n",
    "names=list(data.columns)\n",
    "for person in names:\n",
    "    ranking[person]=sim_correlation(data,\"Lisa Rose\",person)\n",
    "\n",
    "sortedlist=sorted(ranking,key=ranking.get,reverse=True)\n",
    "\n",
    "for key in sortedlist:\n",
    "    print(\"%20s %20f\"%(key,ranking[key]))\n",
    "\n",
    "    "
   ]
  },
  {
   "cell_type": "code",
   "execution_count": 11,
   "metadata": {},
   "outputs": [
    {
     "name": "stdout",
     "output_type": "stream",
     "text": [
      "           Lisa Rose             1.000000\n",
      "    Michael Phillips             0.444444\n",
      "        Mick LaSalle             0.333333\n",
      "        Claudia Puig             0.285714\n",
      "                Toby             0.222222\n",
      "       Jack Matthews             0.210526\n",
      "        Gene Seymour             0.148148\n"
     ]
    }
   ],
   "source": [
    "#lets i want find the distance between Lisa Rose and every other person\n",
    "\n",
    "ranking={}\n",
    "names=list(data.columns)\n",
    "for person in names:\n",
    "    ranking[person]=get_similarity(data,\"Lisa Rose\",person)\n",
    "\n",
    "sortedlist=sorted(ranking,key=ranking.get,reverse=True)\n",
    "\n",
    "for key in sortedlist:\n",
    "    print(\"%20s %20f\"%(key,ranking[key]))\n",
    "\n"
   ]
  },
  {
   "cell_type": "markdown",
   "metadata": {},
   "source": []
  },
  {
   "cell_type": "code",
   "execution_count": null,
   "metadata": {},
   "outputs": [],
   "source": []
  }
 ],
 "metadata": {
  "kernelspec": {
   "display_name": "Python 3",
   "language": "python",
   "name": "python3"
  },
  "language_info": {
   "codemirror_mode": {
    "name": "ipython",
    "version": 3
   },
   "file_extension": ".py",
   "mimetype": "text/x-python",
   "name": "python",
   "nbconvert_exporter": "python",
   "pygments_lexer": "ipython3",
   "version": "3.6.4"
  }
 },
 "nbformat": 4,
 "nbformat_minor": 2
}
